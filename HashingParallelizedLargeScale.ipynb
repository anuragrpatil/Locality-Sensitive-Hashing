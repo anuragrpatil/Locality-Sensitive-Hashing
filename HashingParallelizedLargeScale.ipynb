{
  "nbformat": 4,
  "nbformat_minor": 0,
  "metadata": {
    "kernelspec": {
      "name": "python3",
      "display_name": "Python 3"
    },
    "language_info": {
      "codemirror_mode": {
        "name": "ipython",
        "version": 3
      },
      "file_extension": ".py",
      "mimetype": "text/x-python",
      "name": "python",
      "nbconvert_exporter": "python",
      "pygments_lexer": "ipython3",
      "version": "3.6.8"
    },
    "colab": {
      "name": "Hashing.ipynb",
      "provenance": [],
      "collapsed_sections": [],
      "machine_shape": "hm"
    },
    "accelerator": "GPU"
  },
  "cells": [
    {
      "cell_type": "code",
      "metadata": {
        "id": "f3w7_m4qHEkA",
        "colab_type": "code",
        "outputId": "32467bfe-5889-4d62-b129-7470bfcfe693",
        "colab": {
          "base_uri": "https://localhost:8080/",
          "height": 34
        }
      },
      "source": [
        "from google.colab import drive\n",
        "drive.mount('/content/drive/')"
      ],
      "execution_count": 27,
      "outputs": [
        {
          "output_type": "stream",
          "text": [
            "Drive already mounted at /content/drive/; to attempt to forcibly remount, call drive.mount(\"/content/drive/\", force_remount=True).\n"
          ],
          "name": "stdout"
        }
      ]
    },
    {
      "cell_type": "code",
      "metadata": {
        "id": "GMWJLpsBHH_K",
        "colab_type": "code",
        "outputId": "65dde915-60d2-4a98-fbee-32ee55f281e9",
        "colab": {
          "base_uri": "https://localhost:8080/",
          "height": 34
        }
      },
      "source": [
        "cd \"/content/drive//My Drive/Colab/\""
      ],
      "execution_count": 28,
      "outputs": [
        {
          "output_type": "stream",
          "text": [
            "/content/drive/My Drive/Colab\n"
          ],
          "name": "stdout"
        }
      ]
    },
    {
      "cell_type": "code",
      "metadata": {
        "id": "aNnynuoxGl_Q",
        "colab_type": "code",
        "colab": {}
      },
      "source": [
        "\n",
        "from nltk.corpus import stopwords \n",
        "import binascii\n",
        "import numpy as np\n",
        "import matplotlib.pyplot as plt\n",
        "import time \n",
        "from sklearn.feature_extraction.text import HashingVectorizer\n",
        "import os\n",
        "import pickle\n",
        "from joblib import Parallel, delayed\n",
        "import multiprocessing as mp\n",
        "from itertools import repeat\n",
        "from numba import jit, cuda\n",
        "import math"
      ],
      "execution_count": 0,
      "outputs": []
    },
    {
      "cell_type": "markdown",
      "metadata": {
        "id": "i8FBu6WzGl_Y",
        "colab_type": "text"
      },
      "source": [
        "# Part A"
      ]
    },
    {
      "cell_type": "code",
      "metadata": {
        "id": "YexIj_K1Gl_a",
        "colab_type": "code",
        "outputId": "4143c846-fd59-4f50-ee39-d8d22ea328b5",
        "colab": {
          "base_uri": "https://localhost:8080/",
          "height": 34
        }
      },
      "source": [
        "inputpath = r'Gutenberg/txt'\n",
        "filenames = [os.path.join(inputpath, file) for file in os.listdir(inputpath)]\n",
        "corpus = []\n",
        "i=0\n",
        "for file in filenames:\n",
        "    with open(file) as f:\n",
        "        try:\n",
        "            data = \" \".join(line.strip() for line in f)\n",
        "            corpus.append(data)\n",
        "        except:\n",
        "            print(file)"
      ],
      "execution_count": 0,
      "outputs": [
        {
          "output_type": "stream",
          "text": [
            "Gutenberg/txt/Henry David Thoreau___A Week on the Concord and Merrimack Rivers.txt\n"
          ],
          "name": "stdout"
        }
      ]
    },
    {
      "cell_type": "code",
      "metadata": {
        "id": "jJGPzXLHGl_e",
        "colab_type": "code",
        "colab": {}
      },
      "source": [
        "pickle.dump( corpus, open( \"corpus.p\", \"wb\" ) )"
      ],
      "execution_count": 0,
      "outputs": []
    },
    {
      "cell_type": "code",
      "metadata": {
        "id": "i_rxE-IU7S70",
        "colab_type": "code",
        "colab": {}
      },
      "source": [
        "corpus = pickle.load( open( \"corpus.p\", \"rb\" ) )"
      ],
      "execution_count": 0,
      "outputs": []
    },
    {
      "cell_type": "code",
      "metadata": {
        "id": "RBkX_tXC6lE8",
        "colab_type": "code",
        "colab": {}
      },
      "source": [
        "corpus[0][100]"
      ],
      "execution_count": 0,
      "outputs": []
    },
    {
      "cell_type": "code",
      "metadata": {
        "id": "AiXa_RoX-uCk",
        "colab_type": "code",
        "outputId": "06acaa76-bfad-48ae-8ff0-0bd41ffc9fbb",
        "colab": {
          "base_uri": "https://localhost:8080/",
          "height": 34
        }
      },
      "source": [
        ""
      ],
      "execution_count": 0,
      "outputs": [
        {
          "output_type": "execute_result",
          "data": {
            "text/plain": [
              "' '"
            ]
          },
          "metadata": {
            "tags": []
          },
          "execution_count": 31
        }
      ]
    },
    {
      "cell_type": "code",
      "metadata": {
        "id": "TWO6MZC1Gl_j",
        "colab_type": "code",
        "colab": {}
      },
      "source": [
        "vectorizer = HashingVectorizer(n_features=2**18,ngram_range=(2,2), binary=True, norm = None)\n",
        "X = vectorizer.fit_transform(corpus)\n",
        "\n"
      ],
      "execution_count": 0,
      "outputs": []
    },
    {
      "cell_type": "code",
      "metadata": {
        "id": "gjHhKVRm8yI2",
        "colab_type": "code",
        "outputId": "4c00f482-8c96-4941-de4c-1b910cafb242",
        "colab": {
          "base_uri": "https://localhost:8080/",
          "height": 181
        }
      },
      "source": [
        "vectorizer = HashingVectorizer(input='content', n_features=2**18,ngram_range=(2,2), binary=True, norm = None)\n",
        "X2 = vectorizer.fit_transform()"
      ],
      "execution_count": 0,
      "outputs": [
        {
          "output_type": "error",
          "ename": "TypeError",
          "evalue": "ignored",
          "traceback": [
            "\u001b[0;31m---------------------------------------------------------------------------\u001b[0m",
            "\u001b[0;31mTypeError\u001b[0m                                 Traceback (most recent call last)",
            "\u001b[0;32m<ipython-input-22-463add18a0a3>\u001b[0m in \u001b[0;36m<module>\u001b[0;34m()\u001b[0m\n\u001b[1;32m      1\u001b[0m \u001b[0mvectorizer\u001b[0m \u001b[0;34m=\u001b[0m \u001b[0mHashingVectorizer\u001b[0m\u001b[0;34m(\u001b[0m\u001b[0minput\u001b[0m\u001b[0;34m=\u001b[0m\u001b[0;34m'content'\u001b[0m\u001b[0;34m,\u001b[0m \u001b[0mn_features\u001b[0m\u001b[0;34m=\u001b[0m\u001b[0;36m2\u001b[0m\u001b[0;34m**\u001b[0m\u001b[0;36m18\u001b[0m\u001b[0;34m,\u001b[0m\u001b[0mngram_range\u001b[0m\u001b[0;34m=\u001b[0m\u001b[0;34m(\u001b[0m\u001b[0;36m2\u001b[0m\u001b[0;34m,\u001b[0m\u001b[0;36m2\u001b[0m\u001b[0;34m)\u001b[0m\u001b[0;34m,\u001b[0m \u001b[0mbinary\u001b[0m\u001b[0;34m=\u001b[0m\u001b[0;32mTrue\u001b[0m\u001b[0;34m,\u001b[0m \u001b[0mnorm\u001b[0m \u001b[0;34m=\u001b[0m \u001b[0;32mNone\u001b[0m\u001b[0;34m)\u001b[0m\u001b[0;34m\u001b[0m\u001b[0;34m\u001b[0m\u001b[0m\n\u001b[0;32m----> 2\u001b[0;31m \u001b[0mX2\u001b[0m \u001b[0;34m=\u001b[0m \u001b[0mvectorizer\u001b[0m\u001b[0;34m.\u001b[0m\u001b[0mfit_transform\u001b[0m\u001b[0;34m(\u001b[0m\u001b[0;34m)\u001b[0m\u001b[0;34m\u001b[0m\u001b[0;34m\u001b[0m\u001b[0m\n\u001b[0m",
            "\u001b[0;31mTypeError\u001b[0m: fit_transform() missing 1 required positional argument: 'X'"
          ]
        }
      ]
    },
    {
      "cell_type": "code",
      "metadata": {
        "id": "XxEW_QqrGl_l",
        "colab_type": "code",
        "colab": {}
      },
      "source": [
        "pickle.dump( X, open( \"X.p\", \"wb\" ) )"
      ],
      "execution_count": 0,
      "outputs": []
    },
    {
      "cell_type": "code",
      "metadata": {
        "id": "h56gCCJF7ZEr",
        "colab_type": "code",
        "colab": {}
      },
      "source": [
        "X = pickle.load( open( \"X.p\", \"rb\" ) )"
      ],
      "execution_count": 0,
      "outputs": []
    },
    {
      "cell_type": "code",
      "metadata": {
        "id": "I88OEQYcQ6mx",
        "colab_type": "code",
        "outputId": "d45cb207-59b2-4bdb-883e-ead2a2401468",
        "colab": {
          "base_uri": "https://localhost:8080/",
          "height": 34
        }
      },
      "source": [
        "X.toarray()[923,:].sum()"
      ],
      "execution_count": 0,
      "outputs": [
        {
          "output_type": "execute_result",
          "data": {
            "text/plain": [
              "15561.0"
            ]
          },
          "metadata": {
            "tags": []
          },
          "execution_count": 21
        }
      ]
    },
    {
      "cell_type": "code",
      "metadata": {
        "id": "gxFTpzLKYh1N",
        "colab_type": "code",
        "outputId": "df1a3a13-d6da-417a-b224-528dee269da8",
        "colab": {
          "base_uri": "https://localhost:8080/",
          "height": 34
        }
      },
      "source": [
        "X.shape"
      ],
      "execution_count": 0,
      "outputs": [
        {
          "output_type": "execute_result",
          "data": {
            "text/plain": [
              "(3066, 262144)"
            ]
          },
          "metadata": {
            "tags": []
          },
          "execution_count": 17
        }
      ]
    },
    {
      "cell_type": "code",
      "metadata": {
        "id": "Drb1q91OGl_t",
        "colab_type": "code",
        "colab": {}
      },
      "source": [
        "%%time\n",
        "#########Generate Minhash Signature for each book#####\n",
        "@jit(nopython=True, parallel=True)\n",
        "def parrallel_minhash(X):\n",
        "  maxShingleID = pow(2,32)\n",
        "  prime = 4294967311\n",
        "  numHashFunctions = 90\n",
        "  # c = []\n",
        "  c = np.random.uniform(0,prime-1,2*numHashFunctions)\n",
        "  c1 = c[0:numHashFunctions]\n",
        "  c2 = c[numHashFunctions:2*numHashFunctions]\n",
        "\n",
        "  minhashSignatures = np.zeros((X.shape[0],numHashFunctions))\n",
        "\n",
        "  for book in range(X.shape[0]):\n",
        "      shingleIDs = X[book]\n",
        "      minhashSignature = np.zeros(numHashFunctions)\n",
        "\n",
        "      for i in range(0,numHashFunctions):\n",
        "          minhashValue = math.inf\n",
        "          for shingleID in np.nditer(shingleIDs):\n",
        "              hashValue = (c1[i]*shingleID+c2[i])%prime\n",
        "              if hashValue<minhashValue:\n",
        "                  minhashValue = hashValue\n",
        "          minhashSignature[i]=minhashValue\n",
        "\n",
        "      minhashSignatures[book,:] = minhashSignature\n",
        "      print(book)\n",
        "\n",
        "  return minhashSignatures\n",
        "\n",
        "minhashSignatures = parrallel_minhash(X.toarray())"
      ],
      "execution_count": 0,
      "outputs": []
    },
    {
      "cell_type": "code",
      "metadata": {
        "id": "G39LJNnh_jTI",
        "colab_type": "code",
        "colab": {}
      },
      "source": [
        "pickle.dump( minhashSignatures, open( \"minhashSignatures.p\", \"wb\" ) )"
      ],
      "execution_count": 0,
      "outputs": []
    },
    {
      "cell_type": "code",
      "metadata": {
        "id": "KjwZqWvscPp3",
        "colab_type": "code",
        "colab": {}
      },
      "source": [
        "minhashSignatures= pickle.load( open( \"SIG.pkl\", \"rb\" ) )"
      ],
      "execution_count": 0,
      "outputs": []
    },
    {
      "cell_type": "code",
      "metadata": {
        "id": "ET_xBMPA_zgA",
        "colab_type": "code",
        "outputId": "5ef2f39c-03fb-4270-8392-4205b2a6cf82",
        "colab": {
          "base_uri": "https://localhost:8080/",
          "height": 34
        }
      },
      "source": [
        "minhashSignatures.shape"
      ],
      "execution_count": 0,
      "outputs": [
        {
          "output_type": "execute_result",
          "data": {
            "text/plain": [
              "(3066, 90)"
            ]
          },
          "metadata": {
            "tags": []
          },
          "execution_count": 7
        }
      ]
    },
    {
      "cell_type": "code",
      "metadata": {
        "id": "ax5H98MoDAPU",
        "colab_type": "code",
        "colab": {
          "base_uri": "https://localhost:8080/",
          "height": 565
        },
        "outputId": "e7d4dfbd-2462-4efb-851b-a2a351892bab"
      },
      "source": [
        "%%time\n",
        "# rows = [1,3,5,7,9]\n",
        "# bands = [1,3,5,7,9]\n",
        "# band = bands[0]\n",
        "row = 3\n",
        "band = 30\n",
        "\n",
        "# for row in rows: \n",
        "#     for count in range(0,10):\n",
        "\n",
        "\n",
        "numHashFunctions = band*row\n",
        "S = {}\n",
        "key = []\n",
        "# minhashSignatures = minhashSignatures\n",
        "IDs = list(range(0,minhashSignatures.shape[0]))\n",
        "for m in IDs:\n",
        "    key.append(m)\n",
        "    fp = []\n",
        "    minhashSignatureArticle1 = minhashSignatures[IDs.index(m)]\n",
        "    minhashSignatureArticle1Chuncks = np.array_split(np.array(minhashSignatureArticle1),band)\n",
        "\n",
        "    for ID in range(m,len(IDs)):\n",
        "\n",
        "        minhashSignatureArticlei = minhashSignatures[IDs.index(ID)]\n",
        "        minhashSignatureArticleiChuncks = np.array_split(np.array(minhashSignatureArticlei),band)\n",
        "\n",
        "\n",
        "        for i in range(0,len(minhashSignatureArticle1Chuncks)):\n",
        "            if np.all(minhashSignatureArticle1Chuncks[i] == minhashSignatureArticleiChuncks[i]) and m!=ID:\n",
        "\n",
        "                try:\n",
        "                    S[m].append(ID)\n",
        "                except:\n",
        "                    S[m] = [ID]\n",
        "                # IDs.remove(ID)\n",
        "                \n",
        "                \n",
        "                break;\n",
        "#         print(S)\n",
        "\n",
        "    print(m)\n",
        "    fpnum = []\n",
        "    for i in S:\n",
        "        article1 = set(minhashSignatureArticle1)\n",
        "        articlei = set(S[i])\n",
        "        trueJaccard = len(article1.intersection(articlei))/len(article1.union(articlei))\n",
        "#             print(trueJaccard)\n",
        "        if trueJaccard<0.8:\n",
        "\n",
        "            fpnum.append(trueJaccard)\n",
        "\n",
        "#         print(fpnum)\n",
        "    fp.append(len(fpnum)/len(S))"
      ],
      "execution_count": 32,
      "outputs": [
        {
          "output_type": "stream",
          "text": [
            "0\n",
            "1\n",
            "2\n",
            "3\n",
            "4\n",
            "5\n",
            "6\n",
            "7\n"
          ],
          "name": "stdout"
        },
        {
          "output_type": "error",
          "ename": "KeyboardInterrupt",
          "evalue": "ignored",
          "traceback": [
            "\u001b[0;31m---------------------------------------------------------------------------\u001b[0m",
            "\u001b[0;31mKeyboardInterrupt\u001b[0m                         Traceback (most recent call last)",
            "\u001b[0;32m<ipython-input-32-9b3f9fb990f8>\u001b[0m in \u001b[0;36m<module>\u001b[0;34m()\u001b[0m\n\u001b[0;32m----> 1\u001b[0;31m \u001b[0mget_ipython\u001b[0m\u001b[0;34m(\u001b[0m\u001b[0;34m)\u001b[0m\u001b[0;34m.\u001b[0m\u001b[0mrun_cell_magic\u001b[0m\u001b[0;34m(\u001b[0m\u001b[0;34m'time'\u001b[0m\u001b[0;34m,\u001b[0m \u001b[0;34m''\u001b[0m\u001b[0;34m,\u001b[0m \u001b[0;34m'# rows = [1,3,5,7,9]\\n# bands = [1,3,5,7,9]\\n# band = bands[0]\\nrow = 3\\nband = 30\\n\\n# for row in rows: \\n#     for count in range(0,10):\\n\\n\\nnumHashFunctions = band*row\\nS = {}\\nkey = []\\n# minhashSignatures = minhashSignatures\\nIDs = list(range(0,minhashSignatures.shape[0]))\\nfor m in IDs:\\n    key.append(m)\\n    fp = []\\n    minhashSignatureArticle1 = minhashSignatures[IDs.index(m)]\\n    minhashSignatureArticle1Chuncks = np.array_split(np.array(minhashSignatureArticle1),band)\\n\\n    for ID in range(m,len(IDs)):\\n\\n        minhashSignatureArticlei = minhashSignatures[IDs.index(ID)]\\n        minhashSignatureArticleiChuncks = np.array_split(np.array(minhashSignatureArticlei),band)\\n\\n\\n        for i in range(0,len(minhashSignatureArticle1Chuncks)):\\n            if np.all(minhashSignatureArticle1Chuncks[i] == minhashSignatureArticleiChuncks[i]) and m!=ID:\\n\\n                try:\\n                    S[m].append(ID)\\n                except:\\n                    S[m] = [ID]\\n                # IDs.remove(ID)\\n                \\n                \\n                break;\\n#         print(S)\\n\\n    print(m)\\n    fpnum = []\\n    for i in S:\\n        article1 = set(minhashSignatureArticle1)\\n        articlei = set(S[i])\\n        trueJaccard = len(article1.intersection(articlei))/len(article1.union(articlei))\\n...\n\u001b[0m",
            "\u001b[0;32m/usr/local/lib/python3.6/dist-packages/IPython/core/interactiveshell.py\u001b[0m in \u001b[0;36mrun_cell_magic\u001b[0;34m(self, magic_name, line, cell)\u001b[0m\n\u001b[1;32m   2115\u001b[0m             \u001b[0mmagic_arg_s\u001b[0m \u001b[0;34m=\u001b[0m \u001b[0mself\u001b[0m\u001b[0;34m.\u001b[0m\u001b[0mvar_expand\u001b[0m\u001b[0;34m(\u001b[0m\u001b[0mline\u001b[0m\u001b[0;34m,\u001b[0m \u001b[0mstack_depth\u001b[0m\u001b[0;34m)\u001b[0m\u001b[0;34m\u001b[0m\u001b[0;34m\u001b[0m\u001b[0m\n\u001b[1;32m   2116\u001b[0m             \u001b[0;32mwith\u001b[0m \u001b[0mself\u001b[0m\u001b[0;34m.\u001b[0m\u001b[0mbuiltin_trap\u001b[0m\u001b[0;34m:\u001b[0m\u001b[0;34m\u001b[0m\u001b[0;34m\u001b[0m\u001b[0m\n\u001b[0;32m-> 2117\u001b[0;31m                 \u001b[0mresult\u001b[0m \u001b[0;34m=\u001b[0m \u001b[0mfn\u001b[0m\u001b[0;34m(\u001b[0m\u001b[0mmagic_arg_s\u001b[0m\u001b[0;34m,\u001b[0m \u001b[0mcell\u001b[0m\u001b[0;34m)\u001b[0m\u001b[0;34m\u001b[0m\u001b[0;34m\u001b[0m\u001b[0m\n\u001b[0m\u001b[1;32m   2118\u001b[0m             \u001b[0;32mreturn\u001b[0m \u001b[0mresult\u001b[0m\u001b[0;34m\u001b[0m\u001b[0;34m\u001b[0m\u001b[0m\n\u001b[1;32m   2119\u001b[0m \u001b[0;34m\u001b[0m\u001b[0m\n",
            "\u001b[0;32m</usr/local/lib/python3.6/dist-packages/decorator.py:decorator-gen-60>\u001b[0m in \u001b[0;36mtime\u001b[0;34m(self, line, cell, local_ns)\u001b[0m\n",
            "\u001b[0;32m/usr/local/lib/python3.6/dist-packages/IPython/core/magic.py\u001b[0m in \u001b[0;36m<lambda>\u001b[0;34m(f, *a, **k)\u001b[0m\n\u001b[1;32m    186\u001b[0m     \u001b[0;31m# but it's overkill for just that one bit of state.\u001b[0m\u001b[0;34m\u001b[0m\u001b[0;34m\u001b[0m\u001b[0;34m\u001b[0m\u001b[0m\n\u001b[1;32m    187\u001b[0m     \u001b[0;32mdef\u001b[0m \u001b[0mmagic_deco\u001b[0m\u001b[0;34m(\u001b[0m\u001b[0marg\u001b[0m\u001b[0;34m)\u001b[0m\u001b[0;34m:\u001b[0m\u001b[0;34m\u001b[0m\u001b[0;34m\u001b[0m\u001b[0m\n\u001b[0;32m--> 188\u001b[0;31m         \u001b[0mcall\u001b[0m \u001b[0;34m=\u001b[0m \u001b[0;32mlambda\u001b[0m \u001b[0mf\u001b[0m\u001b[0;34m,\u001b[0m \u001b[0;34m*\u001b[0m\u001b[0ma\u001b[0m\u001b[0;34m,\u001b[0m \u001b[0;34m**\u001b[0m\u001b[0mk\u001b[0m\u001b[0;34m:\u001b[0m \u001b[0mf\u001b[0m\u001b[0;34m(\u001b[0m\u001b[0;34m*\u001b[0m\u001b[0ma\u001b[0m\u001b[0;34m,\u001b[0m \u001b[0;34m**\u001b[0m\u001b[0mk\u001b[0m\u001b[0;34m)\u001b[0m\u001b[0;34m\u001b[0m\u001b[0;34m\u001b[0m\u001b[0m\n\u001b[0m\u001b[1;32m    189\u001b[0m \u001b[0;34m\u001b[0m\u001b[0m\n\u001b[1;32m    190\u001b[0m         \u001b[0;32mif\u001b[0m \u001b[0mcallable\u001b[0m\u001b[0;34m(\u001b[0m\u001b[0marg\u001b[0m\u001b[0;34m)\u001b[0m\u001b[0;34m:\u001b[0m\u001b[0;34m\u001b[0m\u001b[0;34m\u001b[0m\u001b[0m\n",
            "\u001b[0;32m/usr/local/lib/python3.6/dist-packages/IPython/core/magics/execution.py\u001b[0m in \u001b[0;36mtime\u001b[0;34m(self, line, cell, local_ns)\u001b[0m\n\u001b[1;32m   1191\u001b[0m         \u001b[0;32melse\u001b[0m\u001b[0;34m:\u001b[0m\u001b[0;34m\u001b[0m\u001b[0;34m\u001b[0m\u001b[0m\n\u001b[1;32m   1192\u001b[0m             \u001b[0mst\u001b[0m \u001b[0;34m=\u001b[0m \u001b[0mclock2\u001b[0m\u001b[0;34m(\u001b[0m\u001b[0;34m)\u001b[0m\u001b[0;34m\u001b[0m\u001b[0;34m\u001b[0m\u001b[0m\n\u001b[0;32m-> 1193\u001b[0;31m             \u001b[0mexec\u001b[0m\u001b[0;34m(\u001b[0m\u001b[0mcode\u001b[0m\u001b[0;34m,\u001b[0m \u001b[0mglob\u001b[0m\u001b[0;34m,\u001b[0m \u001b[0mlocal_ns\u001b[0m\u001b[0;34m)\u001b[0m\u001b[0;34m\u001b[0m\u001b[0;34m\u001b[0m\u001b[0m\n\u001b[0m\u001b[1;32m   1194\u001b[0m             \u001b[0mend\u001b[0m \u001b[0;34m=\u001b[0m \u001b[0mclock2\u001b[0m\u001b[0;34m(\u001b[0m\u001b[0;34m)\u001b[0m\u001b[0;34m\u001b[0m\u001b[0;34m\u001b[0m\u001b[0m\n\u001b[1;32m   1195\u001b[0m             \u001b[0mout\u001b[0m \u001b[0;34m=\u001b[0m \u001b[0;32mNone\u001b[0m\u001b[0;34m\u001b[0m\u001b[0;34m\u001b[0m\u001b[0m\n",
            "\u001b[0;32m<timed exec>\u001b[0m in \u001b[0;36m<module>\u001b[0;34m()\u001b[0m\n",
            "\u001b[0;32m<__array_function__ internals>\u001b[0m in \u001b[0;36mall\u001b[0;34m(*args, **kwargs)\u001b[0m\n",
            "\u001b[0;32m/usr/local/lib/python3.6/dist-packages/numpy/core/fromnumeric.py\u001b[0m in \u001b[0;36mall\u001b[0;34m(a, axis, out, keepdims)\u001b[0m\n\u001b[1;32m   2349\u001b[0m \u001b[0;34m\u001b[0m\u001b[0m\n\u001b[1;32m   2350\u001b[0m     \"\"\"\n\u001b[0;32m-> 2351\u001b[0;31m     \u001b[0;32mreturn\u001b[0m \u001b[0m_wrapreduction\u001b[0m\u001b[0;34m(\u001b[0m\u001b[0ma\u001b[0m\u001b[0;34m,\u001b[0m \u001b[0mnp\u001b[0m\u001b[0;34m.\u001b[0m\u001b[0mlogical_and\u001b[0m\u001b[0;34m,\u001b[0m \u001b[0;34m'all'\u001b[0m\u001b[0;34m,\u001b[0m \u001b[0maxis\u001b[0m\u001b[0;34m,\u001b[0m \u001b[0;32mNone\u001b[0m\u001b[0;34m,\u001b[0m \u001b[0mout\u001b[0m\u001b[0;34m,\u001b[0m \u001b[0mkeepdims\u001b[0m\u001b[0;34m=\u001b[0m\u001b[0mkeepdims\u001b[0m\u001b[0;34m)\u001b[0m\u001b[0;34m\u001b[0m\u001b[0;34m\u001b[0m\u001b[0m\n\u001b[0m\u001b[1;32m   2352\u001b[0m \u001b[0;34m\u001b[0m\u001b[0m\n\u001b[1;32m   2353\u001b[0m \u001b[0;34m\u001b[0m\u001b[0m\n",
            "\u001b[0;31mKeyboardInterrupt\u001b[0m: "
          ]
        }
      ]
    },
    {
      "cell_type": "code",
      "metadata": {
        "id": "VJ0DK_YLYSHu",
        "colab_type": "code",
        "colab": {}
      },
      "source": [
        ""
      ],
      "execution_count": 0,
      "outputs": []
    },
    {
      "cell_type": "code",
      "metadata": {
        "id": "IHBVGITPEgu8",
        "colab_type": "code",
        "colab": {}
      },
      "source": [
        "pickle.dump( S, open( \"S.p\", \"wb\" ) )"
      ],
      "execution_count": 0,
      "outputs": []
    },
    {
      "cell_type": "code",
      "metadata": {
        "id": "xYm1IDjYcZch",
        "colab_type": "code",
        "colab": {}
      },
      "source": [
        "S = pickle.load( open( \"S.p\", \"rb\" ) )"
      ],
      "execution_count": 0,
      "outputs": []
    },
    {
      "cell_type": "code",
      "metadata": {
        "id": "w6goDj3nrNC-",
        "colab_type": "code",
        "colab": {}
      },
      "source": [
        "del S[3037]"
      ],
      "execution_count": 0,
      "outputs": []
    },
    {
      "cell_type": "code",
      "metadata": {
        "id": "5ZqndRB8gmwP",
        "colab_type": "code",
        "colab": {}
      },
      "source": [
        "\n",
        "approxJaccard = np.zeros((X.shape[0],X.shape[0]))\n",
        "trueJaccard = np.zeros((X.shape[0],X.shape[0]))\n",
        "for key in S:\n",
        "  minhashSignatureArticle1 = minhashSignatures[key]\n",
        "  # print(minhashSignatureArticle1)\n",
        "  # print(key)\n",
        "  article1 = set(minhashSignatureArticle1)\n",
        "  # print(article1)\n",
        "  for second in S[key]:\n",
        "        # print(second)\n",
        "        minhashSignatureArticlei = minhashSignatures[second]\n",
        "        articlei = set(minhashSignatureArticlei)\n",
        "        # approxJaccard[key,second] = len(np.where(minhashSignatureArticlei == minhashSignatureArticle1))/len(minhashSignatureArticle1)\n",
        "        approxJaccard[key,second] =len(article1.intersection(articlei))/len(article1)\n",
        "        trueJaccard[key,second] = len(article1.intersection(articlei))/len(article1.union(articlei))\n",
        "        "
      ],
      "execution_count": 0,
      "outputs": []
    },
    {
      "cell_type": "code",
      "metadata": {
        "id": "g3Y0aQXZY1dB",
        "colab_type": "code",
        "outputId": "94dbee41-fb9c-484e-cb35-9846ac393165",
        "colab": {
          "base_uri": "https://localhost:8080/",
          "height": 34
        }
      },
      "source": [
        "trueJaccard[ 766,  788]"
      ],
      "execution_count": 0,
      "outputs": [
        {
          "output_type": "execute_result",
          "data": {
            "text/plain": [
              "1.0"
            ]
          },
          "metadata": {
            "tags": []
          },
          "execution_count": 20
        }
      ]
    },
    {
      "cell_type": "code",
      "metadata": {
        "id": "TUapfVTA6V5h",
        "colab_type": "code",
        "outputId": "7a22afc0-f3a3-498c-a5ec-b5ab771d9b35",
        "colab": {
          "base_uri": "https://localhost:8080/",
          "height": 34
        }
      },
      "source": [
        "trueJaccard[1,:]"
      ],
      "execution_count": 0,
      "outputs": [
        {
          "output_type": "execute_result",
          "data": {
            "text/plain": [
              "array([0., 0., 1., ..., 1., 1., 1.])"
            ]
          },
          "metadata": {
            "tags": []
          },
          "execution_count": 25
        }
      ]
    },
    {
      "cell_type": "code",
      "metadata": {
        "id": "y4ieLuxSoZOT",
        "colab_type": "code",
        "outputId": "1f3f6360-010f-41fa-f590-41ba23072c3f",
        "colab": {
          "base_uri": "https://localhost:8080/",
          "height": 187
        }
      },
      "source": [
        "def k_largest_index_argsort(a, k):\n",
        "    idx = np.argsort(a.ravel())[:-k-1:-1]\n",
        "    return np.column_stack(np.unravel_index(idx, a.shape)) , \n",
        "\n",
        "k_largest_index_argsort(approxJaccard, k=10)   "
      ],
      "execution_count": 0,
      "outputs": [
        {
          "output_type": "execute_result",
          "data": {
            "text/plain": [
              "(array([[ 766,  788],\n",
              "        [1930, 2047],\n",
              "        [1930, 2049],\n",
              "        [1930, 2050],\n",
              "        [1930, 2051],\n",
              "        [1930, 2052],\n",
              "        [1930, 2053],\n",
              "        [1930, 2054],\n",
              "        [1930, 2055],\n",
              "        [1930, 2056]]),)"
            ]
          },
          "metadata": {
            "tags": []
          },
          "execution_count": 23
        }
      ]
    },
    {
      "cell_type": "code",
      "metadata": {
        "id": "bjXxGkqWz3eV",
        "colab_type": "code",
        "outputId": "38dcaf37-a8ec-4b83-c770-a13dd30f58a6",
        "colab": {
          "base_uri": "https://localhost:8080/",
          "height": 187
        }
      },
      "source": [
        "k_largest_index_argsort(trueJaccard, k=10) "
      ],
      "execution_count": 0,
      "outputs": [
        {
          "output_type": "execute_result",
          "data": {
            "text/plain": [
              "(array([[ 766,  788],\n",
              "        [1930, 2047],\n",
              "        [1930, 2049],\n",
              "        [1930, 2050],\n",
              "        [1930, 2051],\n",
              "        [1930, 2052],\n",
              "        [1930, 2053],\n",
              "        [1930, 2054],\n",
              "        [1930, 2055],\n",
              "        [1930, 2056]]),)"
            ]
          },
          "metadata": {
            "tags": []
          },
          "execution_count": 24
        }
      ]
    },
    {
      "cell_type": "code",
      "metadata": {
        "id": "oa_HP1Mz22bw",
        "colab_type": "code",
        "outputId": "f9752da6-b3fe-4ec0-f199-fc55e9817f53",
        "colab": {
          "base_uri": "https://localhost:8080/",
          "height": 34
        }
      },
      "source": [
        "inputpath = r'./Gutenberg/txt'\n",
        "filenames = [os.path.join(inputpath, file) for file in os.listdir(inputpath)]\n",
        "filenames[1490]"
      ],
      "execution_count": 0,
      "outputs": [
        {
          "output_type": "execute_result",
          "data": {
            "text/plain": [
              "\"./Gutenberg/txt/Anthony Trollope___The Kellys and the O'Kellys.txt\""
            ]
          },
          "metadata": {
            "tags": []
          },
          "execution_count": 94
        }
      ]
    },
    {
      "cell_type": "markdown",
      "metadata": {
        "id": "pu-b84HUGl_4",
        "colab_type": "text"
      },
      "source": [
        "# Part C"
      ]
    },
    {
      "cell_type": "code",
      "metadata": {
        "id": "pb_reqFmZ6lf",
        "colab_type": "code",
        "outputId": "b3595ddf-707a-4b4b-c991-7630c9f7c26c",
        "colab": {
          "base_uri": "https://localhost:8080/",
          "height": 34
        }
      },
      "source": [
        "X.shape[0]"
      ],
      "execution_count": 0,
      "outputs": [
        {
          "output_type": "execute_result",
          "data": {
            "text/plain": [
              "3066"
            ]
          },
          "metadata": {
            "tags": []
          },
          "execution_count": 9
        }
      ]
    },
    {
      "cell_type": "code",
      "metadata": {
        "id": "EG8c_fm4Gl__",
        "colab_type": "code",
        "colab": {}
      },
      "source": [
        "@jit(nopython=True, parallel=True)\n",
        "def parrallel_jaccard(X):\n",
        "  S = X\n",
        "  AllExact = np.zeros((S.shape[0],S.shape[0]))\n",
        "\n",
        "  for i in range(0,len(AllExact)):\n",
        "      for j in range(i+1,len(AllExact)):\n",
        "              article1 = set(X[i,:])\n",
        "              articlei = set(X[j,:])\n",
        "\n",
        "              # ExacttrueJaccard = len(np.where(X[i,:] == X[j,:]))/len(np.unique(np.concatenate(X[i,:], X[j,:])))\n",
        "              ExacttrueJaccard = len(article1.intersection(articlei))/len(article1.union(articlei))\n",
        "              AllExact[i,j] = ExacttrueJaccard\n",
        "      print(i)\n",
        "  # print(All)\n",
        "  return AllExact    "
      ],
      "execution_count": 0,
      "outputs": []
    },
    {
      "cell_type": "code",
      "metadata": {
        "id": "jIj2g99HGmAB",
        "colab_type": "code",
        "colab": {}
      },
      "source": [
        "%%time\n",
        "trueSim = parrallel_jaccard(X.toarray())"
      ],
      "execution_count": 0,
      "outputs": []
    },
    {
      "cell_type": "code",
      "metadata": {
        "id": "bCzJAFT3GmAC",
        "colab_type": "code",
        "colab": {}
      },
      "source": [
        ""
      ],
      "execution_count": 0,
      "outputs": []
    }
  ]
}