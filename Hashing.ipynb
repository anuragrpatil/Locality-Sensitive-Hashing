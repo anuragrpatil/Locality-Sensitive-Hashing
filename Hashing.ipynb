{
 "cells": [
  {
   "cell_type": "code",
   "execution_count": 1,
   "metadata": {},
   "outputs": [],
   "source": [
    "\n",
    "from nltk.corpus import stopwords \n",
    "import binascii\n",
    "import numpy as np\n",
    "import matplotlib.pyplot as plt\n",
    "import time \n"
   ]
  },
  {
   "cell_type": "markdown",
   "metadata": {},
   "source": [
    "# Part A"
   ]
  },
  {
   "cell_type": "code",
   "execution_count": 56,
   "metadata": {},
   "outputs": [
    {
     "name": "stdout",
     "output_type": "stream",
     "text": [
      "145304\n",
      "254.8\n"
     ]
    }
   ],
   "source": [
    "\n",
    "\n",
    "f = open('articles-1000.txt','r')\n",
    "articles = f.readlines()\n",
    "articleIDdict = {}\n",
    "IDs= []\n",
    "\n",
    "articlesAsShingleSets = {}\n",
    "# articles = articles[0:3]\n",
    "# print(lines[1])\n",
    "\n",
    "for article in articles:\n",
    "    \n",
    "    shinglesInArticle = []\n",
    "    words = article.strip().split(\" \")\n",
    "    stopWords = set(stopwords.words('english'))\n",
    "    filteredWords = [w for w in words if not w in stopWords] \n",
    "    ID = filteredWords[0]\n",
    "    IDs.append(ID)\n",
    "    del filteredWords[0]\n",
    "    articleIDdict[ID] = article\n",
    "    \n",
    "    for word in range(0, len(words)-2):\n",
    "        shingle = str(words[word] + \" \" + words[word + 1])\n",
    "        shingleID = binascii.crc32(shingle.encode('utf8')) & 0xffffffff\n",
    "        shinglesInArticle.append(shingleID)\n",
    "        \n",
    "    \n",
    "    articlesAsShingleSets[ID] = shinglesInArticle\n",
    "\n",
    "allShingles = [articlesAsShingleSets[ID] for ID in IDs]\n",
    "AvgShingles = 0\n",
    "for i in allShingles:\n",
    "    AvgShingles = AvgShingles + len(i)\n",
    "AvgShingles = AvgShingles/len(allShingles)\n",
    "flatset = set([ item for elem in allShingles for item in elem])\n",
    "\n",
    "print(len(flatset))\n",
    "print(AvgShingles)"
   ]
  },
  {
   "cell_type": "markdown",
   "metadata": {},
   "source": [
    "# Part B"
   ]
  },
  {
   "cell_type": "code",
   "execution_count": 99,
   "metadata": {},
   "outputs": [],
   "source": [
    "def FindminHashSignatures(n):\n",
    "    \n",
    "    f = open('articles-1000.txt','r')\n",
    "    articles = f.readlines()\n",
    "    articleIDdict = {}\n",
    "    IDs= []\n",
    "\n",
    "    articlesAsShingleSets = {}\n",
    "    # articles = articles[0:3]\n",
    "    # print(lines[1])\n",
    "\n",
    "    for article in articles:\n",
    "\n",
    "        shinglesInArticle = []\n",
    "        words = article.strip().split(\" \")\n",
    "        stopWords = set(stopwords.words('english'))\n",
    "        filteredWords = [w for w in words if not w in stopWords] \n",
    "        ID = filteredWords[0]\n",
    "        IDs.append(ID)\n",
    "        del filteredWords[0]\n",
    "        articleIDdict[ID] = article\n",
    "\n",
    "        for word in range(0, len(words)-2):\n",
    "            shingle = str(words[word] + \" \" + words[word + 1])\n",
    "            shingleID = binascii.crc32(shingle.encode('utf8')) & 0xffffffff\n",
    "            shinglesInArticle.append(shingleID)\n",
    "\n",
    "\n",
    "        articlesAsShingleSets[ID] = shinglesInArticle\n",
    "\n",
    "    \n",
    "    maxShingleID = pow(2,32)\n",
    "    prime = 4294967311\n",
    "    numHashFunctions = n\n",
    "    c = []\n",
    "    c = np.random.uniform(0,prime-1,2*numHashFunctions)\n",
    "    c1 = c[0:numHashFunctions]\n",
    "    c2 = c[numHashFunctions:2*numHashFunctions]\n",
    "\n",
    "    minhashSignatures = []\n",
    "\n",
    "    for ID in IDs:\n",
    "\n",
    "        shingleIDs = articlesAsShingleSets[ID]\n",
    "        minhashSignature = []\n",
    "\n",
    "        for i in range(0,numHashFunctions):\n",
    "            minhashValue = float('inf')\n",
    "            for shingleID in shingleIDs:\n",
    "                hashValue = (c1[i]*shingleID+c2[i])%prime\n",
    "                if hashValue<minhashValue:\n",
    "                    minhashValue = hashValue\n",
    "            minhashSignature.append(minhashValue)\n",
    "\n",
    "        minhashSignatures.append(minhashSignature)\n",
    "    \n",
    "    return minhashSignatures\n",
    "            "
   ]
  },
  {
   "cell_type": "code",
   "execution_count": 27,
   "metadata": {},
   "outputs": [
    {
     "name": "stdout",
     "output_type": "stream",
     "text": [
      "10\n"
     ]
    }
   ],
   "source": [
    "numHashFunctions = 10\n",
    "minhashSignatures = FindminHashSignatures(numHashFunctions)\n",
    "minhashSignatureArticle1 = minhashSignatures[0]\n",
    "estimatedJaccard = []\n",
    "\n",
    "for i in range(1,len(IDs)):\n",
    "    \n",
    "    \n",
    "    minhashSignatureArticlei = minhashSignatures[i]\n",
    "    count = 0\n",
    "    \n",
    "    for j in range(0,numHashFunctions):\n",
    "        if (minhashSignatureArticle1[j] == minhashSignatureArticlei[j]):\n",
    "            count += 1\n",
    "\n",
    "    estimatedJaccard.append(count/numHashFunctions)\n",
    "    \n",
    "    \n",
    "    \n",
    "article1 = set(articlesAsShingleSets[IDs[0]])\n",
    "articleMax = set(articlesAsShingleSets[IDs[estimatedJaccard.index(max(estimatedJaccard))+1]])\n",
    "trueJaccard = len(article1.intersection(articleMax))/len(article1.union(articleMax))\n"
   ]
  },
  {
   "cell_type": "code",
   "execution_count": 5,
   "metadata": {},
   "outputs": [
    {
     "name": "stdout",
     "output_type": "stream",
     "text": [
      "0.9926470588235294 801\n",
      "t7998 The Supreme Court in Johnnesberg on Friday postponed until March 14 a hearing on a petition by government minister Winnie Mandela to prevent police reading documents seized from her home, the SAPA news agency reported. David Wright and Carlos Delgado homered and Jorge Sosa won for the sixth time as the New York Mets snapped a four-game losing streak with a 3-0 victory over Detroit on Friday night. US Defense Secretary Robert Gates said on Sunday that Iran was not yet able to make a nuclear weapon and that its program was progressing slower than Tehran expected. A Palestinian suicide bomber blew himself up in a crowded hotel dining room here Wednesday evening just as more than 200 people gathered for their Passover holiday meal, killing at least 19 and wounding more than 100 others, many of them children. OPEC kingpin Saudi Arabia signalled Tuesday it could act alone to meet a predicted increase in demand for oil, as it pushed hesitant fellow members of the cartel to raise production quotas immediately. The most important form of political compromise in Iraq isn't among top Iraqi politicians in Baghdad, but at the local level, President Bush asserted Thursday, in a departure from past rhetoric on Iraqi politics. Nancy Smith likes the HBO series ``Sex and the City,'' but the high school drama teacher often can't be in front of the television on Sunday nights, when new episodes air. An exhibition opened here today to market the 50th anniversary of China sending its volunteers to join forces with the People's Army of the Democratic People's Republic of Korea (DPRK) in the War to Resist U.S. Aggression and Aid Korea (1950-53).\n",
      "\n",
      "t7998\n"
     ]
    }
   ],
   "source": [
    "print(trueJaccard, estimatedJaccard.index(max(estimatedJaccard)))\n",
    "\n",
    "print(articles[802])\n",
    "print(IDs[802])"
   ]
  },
  {
   "cell_type": "code",
   "execution_count": 18,
   "metadata": {},
   "outputs": [
    {
     "name": "stdout",
     "output_type": "stream",
     "text": [
      "10\n"
     ]
    }
   ],
   "source": [
    "print(len(minhashSignatures[0]))"
   ]
  },
  {
   "cell_type": "code",
   "execution_count": 82,
   "metadata": {},
   "outputs": [
    {
     "data": {
      "image/png": "[encoded data removed]",
      "text/plain": [
       "<Figure size 432x288 with 1 Axes>"
      ]
     },
     "metadata": {
      "needs_background": "light"
     },
     "output_type": "display_data"
    }
   ],
   "source": [
    "fig, ax = plt.subplots()\n",
    "ax.scatter(range(0,len(estimatedJaccard)), estimatedJaccard[:], label='data_noisy')\n",
    "ax.set_title('estimatedJaccard')\n",
    "ax.set_xlabel('x') \n",
    "ax.set_ylabel('estimatedJaccard')\n",
    "ax.grid()\n",
    "leg = ax.legend()\n",
    "\n",
    "plt.show()"
   ]
  },
  {
   "cell_type": "markdown",
   "metadata": {},
   "source": [
    "# Part C"
   ]
  },
  {
   "cell_type": "code",
   "execution_count": 73,
   "metadata": {},
   "outputs": [],
   "source": [
    "%%timeit\n",
    "###implement LSH and generate the plots for the last two questions####\n",
    "rows = [1,3,5,7,9]\n",
    "# row = 2\n",
    "# bands = [1,3,5,7,9]\n",
    "# band = bands[0]\n",
    "\n",
    "fpAvg = []\n",
    "\n",
    "for row in rows:\n",
    "    fp = []\n",
    "    \n",
    "    for count in range(0,10):\n",
    "        S = {}\n",
    "        numHashFunctions = band*row\n",
    "\n",
    "        minhashSignatures = FindminHashSignatures(numHashFunctions)\n",
    "\n",
    "        minhashSignatureArticle1 = minhashSignatures[0]\n",
    "        minhashSignatureArticle1Chuncks = np.array_split(np.array(minhashSignatureArticle1),band)\n",
    "\n",
    "        for ID in range(1,len(IDs)):\n",
    "            \n",
    "            minhashSignatureArticlei = minhashSignatures[ID]\n",
    "            minhashSignatureArticleiChuncks = np.array_split(np.array(minhashSignatureArticlei),band)\n",
    "\n",
    "\n",
    "            for i in range(0,len(minhashSignatureArticle1Chuncks)):\n",
    "                if np.all(minhashSignatureArticle1Chuncks[i] == minhashSignatureArticleiChuncks[i]):\n",
    "\n",
    "                    S[IDs[ID]] = minhashSignatureArticlei\n",
    "\n",
    "\n",
    "\n",
    "\n",
    "\n",
    "        fpnum = []\n",
    "        for i in S:\n",
    "            article1 = set(minhashSignatureArticle1)\n",
    "            articlei = set(S[i])\n",
    "            trueJaccard = len(article1.intersection(articlei))/len(article1.union(articlei))\n",
    "\n",
    "            if trueJaccard<0.8:\n",
    "\n",
    "                fpnum.append(trueJaccard)\n",
    "\n",
    "\n",
    "        fp.append(len(fpnum)/len(S))\n",
    "\n",
    "    fpAvg.append(sum(fp)/len(fp))\n",
    "       \n"
   ]
  },
  {
   "cell_type": "code",
   "execution_count": 63,
   "metadata": {},
   "outputs": [
    {
     "name": "stdout",
     "output_type": "stream",
     "text": [
      "0.0\n"
     ]
    }
   ],
   "source": [
    "print(fp)"
   ]
  },
  {
   "cell_type": "code",
   "execution_count": 78,
   "metadata": {},
   "outputs": [
    {
     "data": {
      "text/plain": [
       "'t7058'"
      ]
     },
     "execution_count": 78,
     "metadata": {},
     "output_type": "execute_result"
    }
   ],
   "source": [
    "IDs[733+1]\n"
   ]
  },
  {
   "cell_type": "code",
   "execution_count": 41,
   "metadata": {},
   "outputs": [
    {
     "name": "stdout",
     "output_type": "stream",
     "text": [
      "[0.9730335088727436, 0.8591666666666669, 0.605, 0.2333333333333333, 0.1]\n"
     ]
    }
   ],
   "source": [
    "print(fpAvg)"
   ]
  },
  {
   "cell_type": "code",
   "execution_count": 94,
   "metadata": {},
   "outputs": [
    {
     "data": {
      "image/png": "[encoded data removed]",
      "text/plain": [
       "<Figure size 432x288 with 1 Axes>"
      ]
     },
     "metadata": {
      "needs_background": "light"
     },
     "output_type": "display_data"
    }
   ],
   "source": [
    "###################fpAvg as function of b\n",
    "fpAvg = [0.52, 0.8900000000000002, 0.932015912015912, 0.9755829536317341, 0.9823920265780732]\n",
    "bands = [1,3,5,7,9]\n",
    "fig, ax = plt.subplots()\n",
    "\n",
    "ax.plot(bands,fpAvg[:], label='avg fp')\n",
    "# ax.plot(range(0,n),denoised[:], label='data_corrected')\n",
    "ax.set_title('fpAvg')\n",
    "ax.set_xlabel('x') \n",
    "ax.set_ylabel('fpAvg')\n",
    "ax.grid()\n",
    "leg = ax.legend()\n",
    "plt.savefig('fp as a function of b ',dpi=300, bbox_inches='tight')\n",
    "plt.show()"
   ]
  },
  {
   "cell_type": "code",
   "execution_count": 95,
   "metadata": {},
   "outputs": [
    {
     "data": {
      "image/png": "[encoded data removed]",
      "text/plain": [
       "<Figure size 432x288 with 1 Axes>"
      ]
     },
     "metadata": {
      "needs_background": "light"
     },
     "output_type": "display_data"
    }
   ],
   "source": [
    "###################fpAvg as function of r\n",
    "fpAvg = [0.9730335088727436, 0.8591666666666669, 0.605, 0.2333333333333333, 0.1]\n",
    "rows = [1,3,5,7,9]\n",
    "fig, ax = plt.subplots()\n",
    "\n",
    "ax.plot(rows,fpAvg[:], label='avg fp')\n",
    "# ax.plot(range(0,n),denoised[:], label='data_corrected')\n",
    "ax.set_title('fpAvg')\n",
    "ax.set_xlabel('x') \n",
    "ax.set_ylabel('fpAvg')\n",
    "ax.grid()\n",
    "leg = ax.legend()\n",
    "plt.savefig('fp as a function of r ',dpi=300, bbox_inches='tight')\n",
    "plt.show()"
   ]
  },
  {
   "cell_type": "code",
   "execution_count": 76,
   "metadata": {},
   "outputs": [
    {
     "name": "stdout",
     "output_type": "stream",
     "text": [
      "[[0.         0.02656546 0.01008065 ... 0.00952381 0.012939   0.01498127]\n",
      " [0.         0.         0.00806452 ... 0.01147228 0.00922509 0.00744879]\n",
      " [0.         0.         0.         ... 0.00410678 0.0039604  0.01008065]\n",
      " ...\n",
      " [0.         0.         0.         ... 0.         0.01132075 0.00378788]\n",
      " [0.         0.         0.         ... 0.         0.         0.01669759]\n",
      " [0.         0.         0.         ... 0.         0.         0.        ]]\n",
      "[[0.         0.02656546 0.01008065 ... 0.00952381 0.012939   0.01498127]\n",
      " [0.         0.         0.00806452 ... 0.01147228 0.00922509 0.00744879]\n",
      " [0.         0.         0.         ... 0.00410678 0.0039604  0.01008065]\n",
      " ...\n",
      " [0.         0.         0.         ... 0.         0.01132075 0.00378788]\n",
      " [0.         0.         0.         ... 0.         0.         0.01669759]\n",
      " [0.         0.         0.         ... 0.         0.         0.        ]]\n",
      "[[0.         0.02656546 0.01008065 ... 0.00952381 0.012939   0.01498127]\n",
      " [0.         0.         0.00806452 ... 0.01147228 0.00922509 0.00744879]\n",
      " [0.         0.         0.         ... 0.00410678 0.0039604  0.01008065]\n",
      " ...\n",
      " [0.         0.         0.         ... 0.         0.01132075 0.00378788]\n",
      " [0.         0.         0.         ... 0.         0.         0.01669759]\n",
      " [0.         0.         0.         ... 0.         0.         0.        ]]\n",
      "[[0.         0.02656546 0.01008065 ... 0.00952381 0.012939   0.01498127]\n",
      " [0.         0.         0.00806452 ... 0.01147228 0.00922509 0.00744879]\n",
      " [0.         0.         0.         ... 0.00410678 0.0039604  0.01008065]\n",
      " ...\n",
      " [0.         0.         0.         ... 0.         0.01132075 0.00378788]\n",
      " [0.         0.         0.         ... 0.         0.         0.01669759]\n",
      " [0.         0.         0.         ... 0.         0.         0.        ]]\n",
      "[[0.         0.02656546 0.01008065 ... 0.00952381 0.012939   0.01498127]\n",
      " [0.         0.         0.00806452 ... 0.01147228 0.00922509 0.00744879]\n",
      " [0.         0.         0.         ... 0.00410678 0.0039604  0.01008065]\n",
      " ...\n",
      " [0.         0.         0.         ... 0.         0.01132075 0.00378788]\n",
      " [0.         0.         0.         ... 0.         0.         0.01669759]\n",
      " [0.         0.         0.         ... 0.         0.         0.        ]]\n",
      "[[0.         0.02656546 0.01008065 ... 0.00952381 0.012939   0.01498127]\n",
      " [0.         0.         0.00806452 ... 0.01147228 0.00922509 0.00744879]\n",
      " [0.         0.         0.         ... 0.00410678 0.0039604  0.01008065]\n",
      " ...\n",
      " [0.         0.         0.         ... 0.         0.01132075 0.00378788]\n",
      " [0.         0.         0.         ... 0.         0.         0.01669759]\n",
      " [0.         0.         0.         ... 0.         0.         0.        ]]\n",
      "[[0.         0.02656546 0.01008065 ... 0.00952381 0.012939   0.01498127]\n",
      " [0.         0.         0.00806452 ... 0.01147228 0.00922509 0.00744879]\n",
      " [0.         0.         0.         ... 0.00410678 0.0039604  0.01008065]\n",
      " ...\n",
      " [0.         0.         0.         ... 0.         0.01132075 0.00378788]\n",
      " [0.         0.         0.         ... 0.         0.         0.01669759]\n",
      " [0.         0.         0.         ... 0.         0.         0.        ]]\n",
      "[[0.         0.02656546 0.01008065 ... 0.00952381 0.012939   0.01498127]\n",
      " [0.         0.         0.00806452 ... 0.01147228 0.00922509 0.00744879]\n",
      " [0.         0.         0.         ... 0.00410678 0.0039604  0.01008065]\n",
      " ...\n",
      " [0.         0.         0.         ... 0.         0.01132075 0.00378788]\n",
      " [0.         0.         0.         ... 0.         0.         0.01669759]\n",
      " [0.         0.         0.         ... 0.         0.         0.        ]]\n",
      "17.3 s ± 255 ms per loop (mean ± std. dev. of 7 runs, 1 loop each)\n"
     ]
    }
   ],
   "source": [
    "%%timeit\n",
    "S = articlesAsShingleSets \n",
    "All = np.zeros([len(IDs),len(IDs)])\n",
    "for i in range(0,len(All)):\n",
    "    for j in range(i+1,len(All)):\n",
    "            article1 = set(S[IDs[i]])\n",
    "            articlei = set(S[IDs[j]])\n",
    "            trueJaccard = len(article1.intersection(articlei))/len(article1.union(articlei))\n",
    "            All[i,j] = trueJaccard\n",
    "print(All)\n",
    "        "
   ]
  },
  {
   "cell_type": "code",
   "execution_count": 118,
   "metadata": {},
   "outputs": [
    {
     "name": "stdout",
     "output_type": "stream",
     "text": [
      "4.08 s ± 308 ms per loop (mean ± std. dev. of 7 runs, 1 loop each)\n"
     ]
    }
   ],
   "source": [
    "%%timeit\n",
    "# rows = [1,3,5,7,9]\n",
    "# bands = [1,3,5,7,9]\n",
    "# band = bands[0]\n",
    "rows = 10\n",
    "band = 16\n",
    "\n",
    "\n",
    "# for row in rows:\n",
    "    \n",
    "\n",
    "    \n",
    "#     for count in range(0,10):\n",
    "\n",
    "\n",
    "numHashFunctions = band*row\n",
    "S = {}\n",
    "minhashSignatures = FindminHashSignatures(numHashFunctions)\n",
    "for m in IDs:\n",
    "\n",
    "    fp = []\n",
    "    minhashSignatureArticle1 = minhashSignatures[IDs.index(m)]\n",
    "    minhashSignatureArticle1Chuncks = np.array_split(np.array(minhashSignatureArticle1),band)\n",
    "\n",
    "    for ID in IDs:\n",
    "\n",
    "        minhashSignatureArticlei = minhashSignatures[IDs.index(ID)]\n",
    "        minhashSignatureArticleiChuncks = np.array_split(np.array(minhashSignatureArticlei),band)\n",
    "\n",
    "\n",
    "        for i in range(0,len(minhashSignatureArticle1Chuncks)):\n",
    "            if np.all(minhashSignatureArticle1Chuncks[i] == minhashSignatureArticleiChuncks[i]):\n",
    "\n",
    "                try:\n",
    "                    S[m].append(ID)\n",
    "                except:\n",
    "                    S[m] = [ID]\n",
    "                IDs.remove(ID)\n",
    "                \n",
    "                \n",
    "                break;\n",
    "\n",
    "\n",
    "#         print(S)\n",
    "\n",
    "\n",
    "    fpnum = []\n",
    "    for i in S:\n",
    "        article1 = set(minhashSignatureArticle1)\n",
    "        articlei = set(S[i])\n",
    "        trueJaccard = len(article1.intersection(articlei))/len(article1.union(articlei))\n",
    "#             print(trueJaccard)\n",
    "        if trueJaccard<0.8:\n",
    "\n",
    "            fpnum.append(trueJaccard)\n",
    "\n",
    "#         print(fpnum)\n",
    "    fp.append(len(fpnum)/len(S))\n"
   ]
  },
  {
   "cell_type": "code",
   "execution_count": 119,
   "metadata": {},
   "outputs": [
    {
     "data": {
      "text/plain": [
       "{'t556': ['t556', 't2988', 't8465'],\n",
       " 't1235': ['t1235', 't4940', 't5806'],\n",
       " 't1709': ['t1709'],\n",
       " 't2882': ['t2882', 't4000', 't5373'],\n",
       " 't3171': ['t3171', 't6186', 't9651'],\n",
       " 't3366': ['t3366'],\n",
       " 't3585': ['t571', 't3753'],\n",
       " 't4554': ['t4554'],\n",
       " 't4740': ['t4740', 't9945'],\n",
       " 't5029': ['t5029'],\n",
       " 't5297': ['t5297'],\n",
       " 't5436': ['t3288', 't5954', 't9730'],\n",
       " 't7729': ['t7729'],\n",
       " 't8573': ['t8573'],\n",
       " 't9268': ['t9268'],\n",
       " 't9539': ['t9539'],\n",
       " 't9737': ['t9737'],\n",
       " 't9897': ['t9897']}"
      ]
     },
     "execution_count": 119,
     "metadata": {},
     "output_type": "execute_result"
    }
   ],
   "source": [
    "S"
   ]
  },
  {
   "cell_type": "code",
   "execution_count": null,
   "metadata": {},
   "outputs": [],
   "source": []
  }
 ],
 "metadata": {
  "kernelspec": {
   "display_name": "Python 3",
   "language": "python",
   "name": "python3"
  },
  "language_info": {
   "codemirror_mode": {
    "name": "ipython",
    "version": 3
   },
   "file_extension": ".py",
   "mimetype": "text/x-python",
   "name": "python",
   "nbconvert_exporter": "python",
   "pygments_lexer": "ipython3",
   "version": "3.6.8"
  }
 },
 "nbformat": 4,
 "nbformat_minor": 2
}
